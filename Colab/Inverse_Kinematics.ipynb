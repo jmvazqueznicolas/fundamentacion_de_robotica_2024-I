{
  "nbformat": 4,
  "nbformat_minor": 0,
  "metadata": {
    "colab": {
      "provenance": []
    },
    "kernelspec": {
      "name": "python3",
      "display_name": "Python 3"
    },
    "language_info": {
      "name": "python"
    }
  },
  "cells": [
    {
      "cell_type": "code",
      "source": [
        "# Installing the roboticstoolbox package\n",
        "try:\n",
        "    from google.colab import output\n",
        "    print('Running on CoLab')\n",
        "    output.enable_custom_widget_manager()\n",
        "    !pip install ipympl\n",
        "    !pip install roboticstoolbox-python>=1.0.2\n",
        "    !pip install --no-deps rvc3python\n",
        "    COLAB = True\n",
        "except ModuleNotFoundError:\n",
        "    COLAB = False"
      ],
      "metadata": {
        "id": "HdkjQQuTEDgm"
      },
      "execution_count": null,
      "outputs": []
    },
    {
      "cell_type": "code",
      "source": [
        "# ------ standard imports ------ #\n",
        "import numpy as np\n",
        "from scipy import optimize\n",
        "import math\n",
        "from math import pi\n",
        "np.set_printoptions(\n",
        "    linewidth=120, formatter={\n",
        "        'float': lambda x: f\"{0:8.4g}\" if abs(x) < 1e-10 else f\"{x:8.4g}\"})\n",
        "np.random.seed(0)\n",
        "from spatialmath import *\n",
        "from spatialmath.base import *\n",
        "from roboticstoolbox import *\n",
        "%matplotlib widget\n",
        "import matplotlib.pyplot as plt"
      ],
      "metadata": {
        "id": "C5HoHVAaE4VA"
      },
      "execution_count": 2,
      "outputs": []
    },
    {
      "cell_type": "code",
      "source": [
        "puma = models.DH.Puma560()\n",
        "print(puma.qn)"
      ],
      "metadata": {
        "id": "D32nCJLbD0y7",
        "colab": {
          "base_uri": "https://localhost:8080/"
        },
        "outputId": "a12186bb-300f-46f8-fda3-31076c90b72c"
      },
      "execution_count": 24,
      "outputs": [
        {
          "output_type": "stream",
          "name": "stdout",
          "text": [
            "[       0   0.7854    3.142        0   0.7854        0]\n"
          ]
        }
      ]
    },
    {
      "cell_type": "code",
      "source": [
        "T = puma.fkine(puma.qn)\n",
        "print(\"Homogeneous Transformation Matrix\")\n",
        "print(T)"
      ],
      "metadata": {
        "colab": {
          "base_uri": "https://localhost:8080/"
        },
        "id": "473hwpizOSM0",
        "outputId": "35cc3ed7-4373-4e3e-aea7-cb28a494413e"
      },
      "execution_count": 25,
      "outputs": [
        {
          "output_type": "stream",
          "name": "stdout",
          "text": [
            "Homogeneous Transformation Matrix\n",
            "   0         0         1         0.5963    \n",
            "   0         1         0        -0.1501    \n",
            "  -1         0         0         0.6575    \n",
            "   0         0         0         1         \n",
            "\n"
          ]
        }
      ]
    },
    {
      "cell_type": "code",
      "source": [
        "sol = puma.ikine_a(T)\n",
        "print(sol)"
      ],
      "metadata": {
        "colab": {
          "base_uri": "https://localhost:8080/"
        },
        "id": "YH3uMZVsjXE3",
        "outputId": "b4c2862c-67c5-4153-a526-74c4f1889917"
      },
      "execution_count": 23,
      "outputs": [
        {
          "output_type": "stream",
          "name": "stdout",
          "text": [
            "IKSolution: q=[2.649, 2.356, 0.09396, -0.609, -0.9743, -2.768], success=True\n"
          ]
        }
      ]
    },
    {
      "cell_type": "code",
      "source": [
        "# Note: You can observe that this solution produce the same forward kinematics.\n",
        "puma.fkine(sol.q)"
      ],
      "metadata": {
        "colab": {
          "base_uri": "https://localhost:8080/"
        },
        "id": "vsIP6mw9kKrf",
        "outputId": "99c93ed7-3769-4221-8f10-b9431354ce0c"
      },
      "execution_count": 27,
      "outputs": [
        {
          "output_type": "execute_result",
          "data": {
            "text/plain": [
              "   0         0         1         0.5963    \n",
              "   0         1         0        -0.15      \n",
              "  -1         0         0         0.6575    \n",
              "   0         0         0         1         \n"
            ]
          },
          "metadata": {},
          "execution_count": 27
        }
      ]
    },
    {
      "cell_type": "code",
      "source": [
        "# Force the inverse kinematics to right-handed solution of the robot\n",
        "sol = puma.ikine_a(T, \"r\");\n",
        "print(sol)"
      ],
      "metadata": {
        "colab": {
          "base_uri": "https://localhost:8080/"
        },
        "id": "lNBpQL8vkegI",
        "outputId": "848f9c20-275b-4882-8691-b54e60d23dc3"
      },
      "execution_count": 30,
      "outputs": [
        {
          "output_type": "stream",
          "name": "stdout",
          "text": [
            "IKSolution: q=[0, 0.7854, -3.142, -3.142, -0.7854, 3.142], success=True\n"
          ]
        }
      ]
    }
  ]
}